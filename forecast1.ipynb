{
 "cells": [
  {
   "cell_type": "code",
   "execution_count": 1,
   "id": "7d4ce31f",
   "metadata": {},
   "outputs": [],
   "source": [
    "import numpy as np\n",
    "import pickle\n",
    "import pandas as pd\n",
    "import matplotlib.pyplot as plt\n",
    "import streamlit as st\n",
    "from statsmodels.tsa.arima.model import ARIMA\n",
    "from datetime import date\n",
    "from PIL import Image"
   ]
  },
  {
   "cell_type": "code",
   "execution_count": 2,
   "id": "cda1c84d",
   "metadata": {},
   "outputs": [],
   "source": [
    "st.set_option('deprecation.showPyplotGlobalUse', False)\n",
    "# Specify the title and logo for the web page.\n",
    "st.set_page_config(page_title='Medical Inventory Optimization',\n",
    "                   page_icon = 'https://supplementfactoryuk.com/wp-content/uploads/2019/06/xCapsugel-Products-ConiSnap-Hard-A-600x420.jpg.pagespeed.ic.q5ccYLXVW1.webp',\n",
    "                   layout=\"wide\")"
   ]
  },
  {
   "cell_type": "code",
   "execution_count": 3,
   "id": "281aab63",
   "metadata": {},
   "outputs": [
    {
     "name": "stderr",
     "output_type": "stream",
     "text": [
      "2023-03-31 13:59:15.193 \n",
      "  \u001b[33m\u001b[1mWarning:\u001b[0m to view this Streamlit app on a browser, run it with the following\n",
      "  command:\n",
      "\n",
      "    streamlit run C:\\Users\\varun\\anaconda3\\lib\\site-packages\\ipykernel_launcher.py [ARGUMENTS]\n"
     ]
    },
    {
     "data": {
      "text/plain": [
       "DeltaGenerator(_root_container=0, _provided_cursor=None, _parent=None, _block_type=None, _form_data=None)"
      ]
     },
     "execution_count": 3,
     "metadata": {},
     "output_type": "execute_result"
    }
   ],
   "source": [
    "#Specify the title\n",
    "st.title('MEDICAL INVENTORY OPTIMIZATION')"
   ]
  },
  {
   "cell_type": "code",
   "execution_count": 4,
   "id": "a53e20f3",
   "metadata": {},
   "outputs": [],
   "source": [
    "# Add a sidebar to the web page. \n",
    "st.markdown('---')\n",
    "# Sidebar Configuration\n",
    "st.sidebar.image('https://lucknow.apollohospitals.com/wp-content/uploads/2021/09/kidney-transplant2.jpg', width=200)\n",
    "st.sidebar.markdown('Medical Inventory Optimization')\n",
    "st.sidebar.markdown('Maximizing inventory efficiency')\n",
    "st.sidebar.markdown('We can predict the medicine quantity in upcoming weeks') \n",
    "\n",
    "st.sidebar.markdown('---')\n",
    "st.sidebar.write('Developed by Varun Kadavergu')\n"
   ]
  },
  {
   "cell_type": "code",
   "execution_count": 5,
   "id": "7d8a0c22",
   "metadata": {},
   "outputs": [],
   "source": [
    "def forecast(Week, DrugName):\n",
    "\n",
    "    with open(r'C:/Users/varun/arima_mod.pkl','rb') as f:\n",
    "        loaded_model = pickle.load(f)\n",
    "    \n",
    "    start = 1\n",
    "    end = len(Week) \n",
    "    prediction = loaded_model.predict(start = start,end = end).rename(DrugName)\n",
    "    prediction.plot(legend = True)\n",
    "    \n",
    "    plt.figure(figsize = (10,6))\n",
    "    plt.plot(prediction, label='Predicted')\n",
    "    plt.legend()\n",
    "    plt.show()\n",
    "    plt.grid(True)\n",
    "    st.pyplot()\n",
    "    \n",
    "    return prediction"
   ]
  },
  {
   "cell_type": "code",
   "execution_count": 6,
   "id": "e9515783",
   "metadata": {},
   "outputs": [],
   "source": [
    "def main():\n",
    "    \n",
    "    Week = st.slider('Weeks of prediction:', 1, 52, 1)\n",
    "    DrugName = st.selectbox('Select the drug to forecast', ['LEVOSALBUTAMOL/LEVALBUTEROL 0.63MG RESPULES',\n",
    "                                                              'MULTIPLE ELECTROLYTES 500ML IVF',\n",
    "                                                              'NORADRENALINE 2ML INJ',\n",
    "                                                              'ONDANSETRON 2MG/ML',\n",
    "                                                              'PANTOPRAZOLE 40MG INJ',\n",
    "                                                              'PARACETAMOL 1GM IV INJ',\n",
    "                                                              'SEVOFLURANE 99.97%',\n",
    "                                                              'SODIUM CHLORIDE 0.9%',\n",
    "                                                              'SODIUM CHLORIDE IVF 100ML',\n",
    "                                                              'WATER FOR INJECTION 10ML SOLUTION'])\n",
    "    \n",
    "     \n",
    "     \n",
    "    #Code for prediction\n",
    "    result = []\n",
    "    \n",
    "    #Creating a button for prediction\n",
    "    if st.button('Forecast'):\n",
    "        result =  forecast(range(1, Week+1), DrugName)\n",
    "        st.success('Forecast for selected weeks : {}'.format(result))    \n",
    "     \n",
    "     \n",
    "\n",
    "if __name__ == '__main__':\n",
    "     main()\n",
    "     "
   ]
  },
  {
   "cell_type": "code",
   "execution_count": null,
   "id": "0e798d2c",
   "metadata": {},
   "outputs": [],
   "source": []
  }
 ],
 "metadata": {
  "kernelspec": {
   "display_name": "Python 3 (ipykernel)",
   "language": "python",
   "name": "python3"
  },
  "language_info": {
   "codemirror_mode": {
    "name": "ipython",
    "version": 3
   },
   "file_extension": ".py",
   "mimetype": "text/x-python",
   "name": "python",
   "nbconvert_exporter": "python",
   "pygments_lexer": "ipython3",
   "version": "3.9.7"
  }
 },
 "nbformat": 4,
 "nbformat_minor": 5
}
